{
  "nbformat": 4,
  "nbformat_minor": 0,
  "metadata": {
    "colab": {
      "provenance": [],
      "include_colab_link": true
    },
    "kernelspec": {
      "name": "python3",
      "display_name": "Python 3"
    },
    "language_info": {
      "name": "python"
    }
  },
  "cells": [
    {
      "cell_type": "markdown",
      "metadata": {
        "id": "view-in-github",
        "colab_type": "text"
      },
      "source": [
        "<a href=\"https://colab.research.google.com/github/JacopoBarbiero1/Basics-of-Python/blob/main/BoP_session_5.ipynb\" target=\"_parent\"><img src=\"https://colab.research.google.com/assets/colab-badge.svg\" alt=\"Open In Colab\"/></a>"
      ]
    },
    {
      "cell_type": "markdown",
      "source": [
        "# BASICS OF PYTHON | SESSION 5\n"
      ],
      "metadata": {
        "id": "pS4-jYwD_U5v"
      }
    },
    {
      "cell_type": "markdown",
      "source": [
        "We will check if:\n",
        "Danceability tracks are liked more (higher danceability value, higher target value)"
      ],
      "metadata": {
        "id": "YIrxJeVSsoeI"
      }
    },
    {
      "cell_type": "markdown",
      "source": [
        "# 1.&nbsp;Data Importing"
      ],
      "metadata": {
        "id": "anY9j--Fj79Z"
      }
    },
    {
      "cell_type": "code",
      "source": [
        "import pandas as pd #to work with dataframes\n",
        "import numpy as np #to work with arrays\n",
        "import scipy.stats as stats #to do statistical analysis\n",
        "import matplotlib.pyplot as plt #to visualize data\n",
        "\n",
        "data = pd.read_csv('data.csv')"
      ],
      "metadata": {
        "id": "9bYWUoe03v8p"
      },
      "execution_count": 115,
      "outputs": []
    },
    {
      "cell_type": "markdown",
      "source": [
        "# 2.&nbsp;Data Cleaning (overview)"
      ],
      "metadata": {
        "id": "BbH5OJkwF1aW"
      }
    },
    {
      "cell_type": "code",
      "source": [
        "#we check if there are null values in the database\n",
        "print(data.info()) #we see no rows with null value"
      ],
      "metadata": {
        "id": "AtiQL5ze3wVb",
        "colab": {
          "base_uri": "https://localhost:8080/"
        },
        "outputId": "24c810ff-dc7c-4282-dbe5-db49941700bb"
      },
      "execution_count": 116,
      "outputs": [
        {
          "output_type": "stream",
          "name": "stdout",
          "text": [
            "<class 'pandas.core.frame.DataFrame'>\n",
            "RangeIndex: 2017 entries, 0 to 2016\n",
            "Data columns (total 17 columns):\n",
            " #   Column            Non-Null Count  Dtype  \n",
            "---  ------            --------------  -----  \n",
            " 0   Unnamed: 0        2017 non-null   int64  \n",
            " 1   acousticness      2017 non-null   float64\n",
            " 2   danceability      2017 non-null   float64\n",
            " 3   duration_ms       2017 non-null   int64  \n",
            " 4   energy            2017 non-null   float64\n",
            " 5   instrumentalness  2017 non-null   float64\n",
            " 6   key               2017 non-null   int64  \n",
            " 7   liveness          2017 non-null   float64\n",
            " 8   loudness          2017 non-null   float64\n",
            " 9   mode              2017 non-null   int64  \n",
            " 10  speechiness       2017 non-null   float64\n",
            " 11  tempo             2017 non-null   float64\n",
            " 12  time_signature    2017 non-null   float64\n",
            " 13  valence           2017 non-null   float64\n",
            " 14  target            2017 non-null   int64  \n",
            " 15  song_title        2017 non-null   object \n",
            " 16  artist            2017 non-null   object \n",
            "dtypes: float64(10), int64(5), object(2)\n",
            "memory usage: 268.0+ KB\n",
            "None\n"
          ]
        }
      ]
    },
    {
      "cell_type": "code",
      "source": [
        "print(data.describe()) # description for numerical columns"
      ],
      "metadata": {
        "colab": {
          "base_uri": "https://localhost:8080/"
        },
        "id": "f9T29QTXviPa",
        "outputId": "acacb0d5-de4c-47eb-a3d2-1934e6a0846b"
      },
      "execution_count": 117,
      "outputs": [
        {
          "output_type": "stream",
          "name": "stdout",
          "text": [
            "        Unnamed: 0  acousticness  danceability   duration_ms       energy  \\\n",
            "count  2017.000000   2017.000000   2017.000000  2.017000e+03  2017.000000   \n",
            "mean   1008.000000      0.187590      0.618422  2.463062e+05     0.681577   \n",
            "std     582.402066      0.259989      0.161029  8.198181e+04     0.210273   \n",
            "min       0.000000      0.000003      0.122000  1.604200e+04     0.014800   \n",
            "25%     504.000000      0.009630      0.514000  2.000150e+05     0.563000   \n",
            "50%    1008.000000      0.063300      0.631000  2.292610e+05     0.715000   \n",
            "75%    1512.000000      0.265000      0.738000  2.703330e+05     0.846000   \n",
            "max    2016.000000      0.995000      0.984000  1.004627e+06     0.998000   \n",
            "\n",
            "       instrumentalness          key     liveness     loudness         mode  \\\n",
            "count       2017.000000  2017.000000  2017.000000  2017.000000  2017.000000   \n",
            "mean           0.133286     5.342588     0.190844    -7.085624     0.612295   \n",
            "std            0.273162     3.648240     0.155453     3.761684     0.487347   \n",
            "min            0.000000     0.000000     0.018800   -33.097000     0.000000   \n",
            "25%            0.000000     2.000000     0.092300    -8.394000     0.000000   \n",
            "50%            0.000076     6.000000     0.127000    -6.248000     1.000000   \n",
            "75%            0.054000     9.000000     0.247000    -4.746000     1.000000   \n",
            "max            0.976000    11.000000     0.969000    -0.307000     1.000000   \n",
            "\n",
            "       speechiness        tempo  time_signature      valence       target  \n",
            "count  2017.000000  2017.000000     2017.000000  2017.000000  2017.000000  \n",
            "mean      0.092664   121.603272        3.968270     0.496815     0.505702  \n",
            "std       0.089931    26.685604        0.255853     0.247195     0.500091  \n",
            "min       0.023100    47.859000        1.000000     0.034800     0.000000  \n",
            "25%       0.037500   100.189000        4.000000     0.295000     0.000000  \n",
            "50%       0.054900   121.427000        4.000000     0.492000     1.000000  \n",
            "75%       0.108000   137.849000        4.000000     0.691000     1.000000  \n",
            "max       0.816000   219.331000        5.000000     0.992000     1.000000  \n"
          ]
        }
      ]
    },
    {
      "cell_type": "code",
      "source": [
        "data1  = data.copy() #we create a copy that is going to be used for the analysis"
      ],
      "metadata": {
        "id": "dze6tY9gATZ8"
      },
      "execution_count": 119,
      "outputs": []
    },
    {
      "cell_type": "markdown",
      "source": [
        "# 5.&nbsp;Data Cleaning (noisy data)"
      ],
      "metadata": {
        "id": "Stxl8ESOzYRP"
      }
    },
    {
      "cell_type": "code",
      "source": [
        "#we exclude data we don't need, in this example we don't need tracks that are mostly speech (according to https://www.kaggle.com/code/alankarmahajan/exploring-spotify-dataset, we exclude tracks with speechiness higher than .66 )\n",
        "data1 = data1[data1[\"speechiness\"]<0.66]\n"
      ],
      "metadata": {
        "id": "WjlpDiO83x-c"
      },
      "execution_count": 120,
      "outputs": []
    },
    {
      "cell_type": "code",
      "source": [
        "print(data1.describe()) # description for numerical columns"
      ],
      "metadata": {
        "colab": {
          "base_uri": "https://localhost:8080/"
        },
        "id": "W7qYnlH-APA0",
        "outputId": "2e6260ee-2349-401c-e271-861494660ee6"
      },
      "execution_count": 121,
      "outputs": [
        {
          "output_type": "stream",
          "name": "stdout",
          "text": [
            "        Unnamed: 0  acousticness  danceability   duration_ms       energy  \\\n",
            "count  2016.000000   2016.000000   2016.000000  2.016000e+03  2016.000000   \n",
            "mean   1008.449405      0.187561      0.618468  2.462832e+05     0.681596   \n",
            "std     582.196647      0.260050      0.161055  8.199562e+04     0.210323   \n",
            "min       0.000000      0.000003      0.122000  1.604200e+04     0.014800   \n",
            "25%     504.750000      0.009590      0.514000  2.000045e+05     0.563000   \n",
            "50%    1008.500000      0.063050      0.631000  2.292040e+05     0.715500   \n",
            "75%    1512.250000      0.265000      0.738000  2.699835e+05     0.846000   \n",
            "max    2016.000000      0.995000      0.984000  1.004627e+06     0.998000   \n",
            "\n",
            "       instrumentalness          key     liveness     loudness         mode  \\\n",
            "count       2016.000000  2016.000000  2016.000000  2016.000000  2016.000000   \n",
            "mean           0.133352     5.342758     0.190886    -7.085729     0.612599   \n",
            "std            0.273214     3.649138     0.155480     3.762615     0.487277   \n",
            "min            0.000000     0.000000     0.018800   -33.097000     0.000000   \n",
            "25%            0.000000     2.000000     0.092275    -8.396000     0.000000   \n",
            "50%            0.000076     6.000000     0.127000    -6.248000     1.000000   \n",
            "75%            0.054075     9.000000     0.247000    -4.745750     1.000000   \n",
            "max            0.976000    11.000000     0.969000    -0.307000     1.000000   \n",
            "\n",
            "       speechiness        tempo  time_signature      valence       target  \n",
            "count  2016.000000  2016.000000     2016.000000  2016.000000  2016.000000  \n",
            "mean      0.092305   121.564520        3.968254     0.496594     0.505456  \n",
            "std       0.088498    26.635398        0.255916     0.247057     0.500094  \n",
            "min       0.023100    47.859000        1.000000     0.034800     0.000000  \n",
            "25%       0.037500   100.164000        4.000000     0.295000     0.000000  \n",
            "50%       0.054900   121.407000        4.000000     0.492000     1.000000  \n",
            "75%       0.108000   137.695250        4.000000     0.690250     1.000000  \n",
            "max       0.622000   219.331000        5.000000     0.992000     1.000000  \n"
          ]
        }
      ]
    },
    {
      "cell_type": "markdown",
      "source": [
        "# 4.&nbsp;Data Cleaning (reduction)"
      ],
      "metadata": {
        "id": "LDCm_efBzFJL"
      }
    },
    {
      "cell_type": "code",
      "source": [
        "data1 = data1.drop([\"acousticness\" , #we keep only the data we need for this analysis: danceability and target\n",
        "                   \"liveness\" ,\n",
        "                   \"instrumentalness\" ,\n",
        "                   \"key\" ,\n",
        "                   \"duration_ms\",\n",
        "                   \"energy\",\n",
        "                   \"loudness\" ,\n",
        "                   \"mode\" , \n",
        "                   \"speechiness\" ,\n",
        "                   \"tempo\" , \n",
        "                   \"time_signature\" ,\n",
        "                   \"valence\" ,\n",
        "                   \"artist\",\n",
        "                   \"song_title\"], 1)\n",
        "print(data1.info())"
      ],
      "metadata": {
        "id": "qBxw9fzM3xYd",
        "colab": {
          "base_uri": "https://localhost:8080/"
        },
        "outputId": "34c65bd5-d6f7-4002-b1d4-dbe39df365a0"
      },
      "execution_count": 122,
      "outputs": [
        {
          "output_type": "stream",
          "name": "stdout",
          "text": [
            "<class 'pandas.core.frame.DataFrame'>\n",
            "Int64Index: 2016 entries, 0 to 2016\n",
            "Data columns (total 3 columns):\n",
            " #   Column        Non-Null Count  Dtype  \n",
            "---  ------        --------------  -----  \n",
            " 0   Unnamed: 0    2016 non-null   int64  \n",
            " 1   danceability  2016 non-null   float64\n",
            " 2   target        2016 non-null   int64  \n",
            "dtypes: float64(1), int64(2)\n",
            "memory usage: 63.0 KB\n",
            "None\n"
          ]
        },
        {
          "output_type": "stream",
          "name": "stderr",
          "text": [
            "<ipython-input-122-c4b52e88ffe0>:1: FutureWarning: In a future version of pandas all arguments of DataFrame.drop except for the argument 'labels' will be keyword-only.\n",
            "  data1 = data1.drop([\"acousticness\" , #we keep only the data we need for this analysis: danceability and target\n"
          ]
        }
      ]
    },
    {
      "cell_type": "markdown",
      "source": [
        "# 3.&nbsp;Data Cleaning (interpretability)"
      ],
      "metadata": {
        "id": "5l-pYjWiy0TX"
      }
    },
    {
      "cell_type": "code",
      "source": [
        "#we make the \"target\" a boolean because it can be only 0 and 1, and therefore it is not an integer\n",
        "data1['target'] = data1[\"target\"].astype(bool)\n",
        "\n",
        "print(data1.info())"
      ],
      "metadata": {
        "colab": {
          "base_uri": "https://localhost:8080/"
        },
        "id": "pwwMaD3QyhXV",
        "outputId": "c26a672a-0908-43c8-9ace-df123deaef6c"
      },
      "execution_count": 124,
      "outputs": [
        {
          "output_type": "stream",
          "name": "stdout",
          "text": [
            "<class 'pandas.core.frame.DataFrame'>\n",
            "Int64Index: 2016 entries, 0 to 2016\n",
            "Data columns (total 3 columns):\n",
            " #   Column        Non-Null Count  Dtype  \n",
            "---  ------        --------------  -----  \n",
            " 0   Unnamed: 0    2016 non-null   int64  \n",
            " 1   danceability  2016 non-null   float64\n",
            " 2   target        2016 non-null   bool   \n",
            "dtypes: bool(1), float64(1), int64(1)\n",
            "memory usage: 49.2 KB\n",
            "None\n"
          ]
        }
      ]
    },
    {
      "cell_type": "markdown",
      "source": [
        "# 6.&nbsp;Data Cleaning (completeness)"
      ],
      "metadata": {
        "id": "iwrKQarlxh2r"
      }
    },
    {
      "cell_type": "code",
      "source": [
        "#there is no null value to handle"
      ],
      "metadata": {
        "id": "frO1h4yZ3yeG"
      },
      "execution_count": null,
      "outputs": []
    },
    {
      "cell_type": "markdown",
      "source": [
        "# 7.&nbsp;Data Exploring\n"
      ],
      "metadata": {
        "id": "fD30B1eeF8QF"
      }
    },
    {
      "cell_type": "code",
      "source": [
        "# we see if the mean of danceability between liked and not liked songs is different (our hypothesis states that more danceable songs should be liked more)\n",
        "data1.groupby(\"target\")[\"danceability\"].mean()\n",
        "#liked songs tend to be more danceable than not liked songs. We will now check if this difference is significant"
      ],
      "metadata": {
        "id": "SFugLB7H3zAz",
        "colab": {
          "base_uri": "https://localhost:8080/"
        },
        "outputId": "e862e64b-b473-4de2-b737-d91e24025040"
      },
      "execution_count": 112,
      "outputs": [
        {
          "output_type": "execute_result",
          "data": {
            "text/plain": [
              "target\n",
              "False    0.589648\n",
              "True     0.646666\n",
              "Name: danceability, dtype: float64"
            ]
          },
          "metadata": {},
          "execution_count": 112
        }
      ]
    },
    {
      "cell_type": "markdown",
      "source": [
        "# 8.&nbsp;Data Analysis"
      ],
      "metadata": {
        "id": "L5CGhoqnGJxO"
      }
    },
    {
      "cell_type": "code",
      "source": [
        "#we can use the ttest with danceability values in liked and not liked songs\n",
        "group1 = data1[(data1[\"target\"]==True)][\"danceability\"]\n",
        "group2 = data1[(data1[\"target\"]==False)][\"danceability\"]\n",
        "print(np.var(group1), np.var(group2)) #ratio is less than 4:1 variance in equal\n",
        "stats.ttest_ind(group1, group2, equal_var=True)\n",
        "#there is a significant difference (p value <.001)"
      ],
      "metadata": {
        "id": "Qcoz2MvN3zdI",
        "colab": {
          "base_uri": "https://localhost:8080/"
        },
        "outputId": "9d239ae0-1c36-4fa2-de19-d7574dedda37"
      },
      "execution_count": 126,
      "outputs": [
        {
          "output_type": "stream",
          "name": "stdout",
          "text": [
            "0.026589819975904334 0.023604238142712994\n"
          ]
        },
        {
          "output_type": "execute_result",
          "data": {
            "text/plain": [
              "Ttest_indResult(statistic=8.073034525629447, pvalue=1.1672939802095354e-15)"
            ]
          },
          "metadata": {},
          "execution_count": 126
        }
      ]
    },
    {
      "cell_type": "markdown",
      "source": [
        "# 9.&nbsp;Data Visualization"
      ],
      "metadata": {
        "id": "KbsOltGkGhEr"
      }
    },
    {
      "cell_type": "code",
      "source": [
        "#we can plot a boxplot, with the danceability in liked songs and not liked songs\n",
        "\n",
        "fig = plt.figure(figsize = (6, 4))\n",
        "\n",
        "liked = data1[(data1[\"target\"]==True)][\"danceability\"].to_numpy()\n",
        "disliked = data1[(data1[\"target\"]==False)][\"danceability\"].to_numpy()\n",
        "plt.boxplot([liked, disliked], labels = (\"liked songs\", \"non-liked songs\"))\n",
        "\n",
        "plt.xlabel(\"OPINION\")\n",
        "plt.ylabel(\"DANCEABILITY\")\n",
        "plt.title(\"DATASET\", fontsize=12)"
      ],
      "metadata": {
        "id": "G8unODVm3z7f",
        "colab": {
          "base_uri": "https://localhost:8080/",
          "height": 427
        },
        "outputId": "5b2cffe7-9026-42f7-84f7-ae25bbb0e469"
      },
      "execution_count": 137,
      "outputs": [
        {
          "output_type": "execute_result",
          "data": {
            "text/plain": [
              "Text(0.5, 1.0, 'DATASET')"
            ]
          },
          "metadata": {},
          "execution_count": 137
        },
        {
          "output_type": "display_data",
          "data": {
            "text/plain": [
              "<Figure size 600x400 with 1 Axes>"
            ],
            "image/png": "[encoded data removed]"
          },
          "metadata": {}
        }
      ]
    },
    {
      "cell_type": "code",
      "source": [
        "#we can also plot a bar chart\n",
        "fig = plt.figure(figsize = (6, 4))\n",
        "\n",
        "labels = (\"liked songs\",\"non-liked songs\")\n",
        "values = (np.mean(data1[data1[\"target\"]==True][\"danceability\"]),np.mean(data1[data1[\"target\"]==False][\"danceability\"]))\n",
        "plt.bar(labels, values, color = [\"greenyellow\", \"deepskyblue\"])\n",
        "\n",
        "plt.xlabel(\"OPINION\")\n",
        "plt.ylabel(\"DANCEABILITY\")\n",
        "plt.title(\"DATASET\", fontsize=12)"
      ],
      "metadata": {
        "colab": {
          "base_uri": "https://localhost:8080/",
          "height": 427
        },
        "id": "f5eXhrUgCyVC",
        "outputId": "0be4accc-44a8-41ac-99aa-8701f8755cf8"
      },
      "execution_count": 138,
      "outputs": [
        {
          "output_type": "execute_result",
          "data": {
            "text/plain": [
              "Text(0.5, 1.0, 'DATASET')"
            ]
          },
          "metadata": {},
          "execution_count": 138
        },
        {
          "output_type": "display_data",
          "data": {
            "text/plain": [
              "<Figure size 600x400 with 1 Axes>"
            ],
            "image/png": "[encoded data removed]"
          },
          "metadata": {}
        }
      ]
    },
    {
      "cell_type": "markdown",
      "source": [
        "# 10.&nbsp;Data Exporting"
      ],
      "metadata": {
        "id": "TnNFwTuHGmRS"
      }
    },
    {
      "cell_type": "code",
      "source": [],
      "metadata": {
        "id": "xVmXya-I30r9"
      },
      "execution_count": null,
      "outputs": []
    }
  ]
}